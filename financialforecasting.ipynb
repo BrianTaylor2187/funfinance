{
 "cells": [
  {
   "cell_type": "markdown",
   "metadata": {},
   "source": [
    "# A naive, simple attempt at predicting tomorrow's stock price"
   ]
  },
  {
   "cell_type": "markdown",
   "metadata": {},
   "source": [
    "Here we just import some libraries, including the module that's included in the directory that was written for this."
   ]
  },
  {
   "cell_type": "code",
   "execution_count": 1,
   "metadata": {},
   "outputs": [],
   "source": [
    "import numpy as np\n",
    "import pandas as pd\n",
    "from datetime import datetime as dt\n",
    "import myfinancemodule as mfm"
   ]
  },
  {
   "cell_type": "markdown",
   "metadata": {},
   "source": [
    "Next, we set our timeframe - the past 5 years."
   ]
  },
  {
   "cell_type": "code",
   "execution_count": 2,
   "metadata": {},
   "outputs": [],
   "source": [
    "end = dt.now()\n",
    "start = end.replace(year=end.year-5)"
   ]
  },
  {
   "cell_type": "markdown",
   "metadata": {},
   "source": [
    "Loading some data from yahoo - oil price, Tesla stock price and S&P 500 Index"
   ]
  },
  {
   "cell_type": "code",
   "execution_count": 3,
   "metadata": {},
   "outputs": [],
   "source": [
    "oil = mfm.get_data_yahoo('^OVX', start=start, end=end)\n",
    "oil.name = 'oil'\n",
    "tesla = mfm.get_data_yahoo('TSLA', start=start, end=end)\n",
    "tesla.name = 'tesla'\n",
    "snp = mfm.get_data_yahoo('^GSPC', start=start, end=end)\n",
    "snp.name = 'snp'"
   ]
  },
  {
   "cell_type": "markdown",
   "metadata": {},
   "source": [
    "The next three cells calculate the covariance (i.e. how much each stock depends on the other) of the three stocks above. The covariances are very small, meaning the stocks are basically independent from this view."
   ]
  },
  {
   "cell_type": "code",
   "execution_count": 4,
   "metadata": {},
   "outputs": [
    {
     "data": {
      "text/plain": [
       "-0.00022021494570090836"
      ]
     },
     "execution_count": 4,
     "metadata": {},
     "output_type": "execute_result"
    }
   ],
   "source": [
    "mfm.covar(oil, tesla)"
   ]
  },
  {
   "cell_type": "code",
   "execution_count": 5,
   "metadata": {},
   "outputs": [
    {
     "data": {
      "text/plain": [
       "-0.00013001380575334906"
      ]
     },
     "execution_count": 5,
     "metadata": {},
     "output_type": "execute_result"
    }
   ],
   "source": [
    "mfm.covar(oil, snp)"
   ]
  },
  {
   "cell_type": "code",
   "execution_count": 6,
   "metadata": {},
   "outputs": [
    {
     "data": {
      "text/plain": [
       "9.077819618215889e-05"
      ]
     },
     "execution_count": 6,
     "metadata": {},
     "output_type": "execute_result"
    }
   ],
   "source": [
    "mfm.covar(snp, tesla)"
   ]
  },
  {
   "cell_type": "markdown",
   "metadata": {},
   "source": [
    "Finally, we predict tomorrow's stock price, give a standard confidence error (in this case the RMSE) and finally produce some quick graphs showing our model vs the actual stock prices in the past. Note that the training and hyper-parameter selection was done on this very data so the graph is not a good measure of accuracy of the model."
   ]
  },
  {
   "cell_type": "code",
   "execution_count": 7,
   "metadata": {},
   "outputs": [
    {
     "name": "stdout",
     "output_type": "stream",
     "text": [
      "Tomorrow's predicted close value: 2796.517946884469\n",
      "Confidence: 0.69%\n"
     ]
    }
   ],
   "source": [
    "mfm.naive_predict_price(snp)"
   ]
  },
  {
   "cell_type": "code",
   "execution_count": 8,
   "metadata": {},
   "outputs": [
    {
     "name": "stdout",
     "output_type": "stream",
     "text": [
      "Tomorrow's predicted close value: 29.2104904447134\n",
      "Confidence: 5.31%\n"
     ]
    }
   ],
   "source": [
    "mfm.naive_predict_price(oil)"
   ]
  },
  {
   "cell_type": "code",
   "execution_count": 9,
   "metadata": {},
   "outputs": [
    {
     "name": "stdout",
     "output_type": "stream",
     "text": [
      "Tomorrow's predicted close value: 260.67136293987403\n",
      "Confidence: 2.95%\n"
     ]
    }
   ],
   "source": [
    "mfm.naive_predict_price(tesla)"
   ]
  }
 ],
 "metadata": {
  "kernelspec": {
   "display_name": "Python 3",
   "language": "python",
   "name": "python3"
  },
  "language_info": {
   "codemirror_mode": {
    "name": "ipython",
    "version": 3
   },
   "file_extension": ".py",
   "mimetype": "text/x-python",
   "name": "python",
   "nbconvert_exporter": "python",
   "pygments_lexer": "ipython3",
   "version": "3.6.7"
  }
 },
 "nbformat": 4,
 "nbformat_minor": 2
}
